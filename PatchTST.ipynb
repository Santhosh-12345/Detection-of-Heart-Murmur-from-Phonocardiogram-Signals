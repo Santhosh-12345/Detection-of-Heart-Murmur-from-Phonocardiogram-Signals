{
  "nbformat": 4,
  "nbformat_minor": 0,
  "metadata": {
    "colab": {
      "provenance": [],
      "gpuType": "T4",
      "authorship_tag": "ABX9TyPXQCakLYRa1UMciozgd5q2",
      "include_colab_link": true
    },
    "kernelspec": {
      "name": "python3",
      "display_name": "Python 3"
    },
    "language_info": {
      "name": "python"
    },
    "accelerator": "GPU"
  },
  "cells": [
    {
      "cell_type": "markdown",
      "metadata": {
        "id": "view-in-github",
        "colab_type": "text"
      },
      "source": [
        "<a href=\"https://colab.research.google.com/github/Santhosh-12345/Detection-of-Heart-Murmur-from-Phonocardiogram-Signals/blob/main/PatchTST.ipynb\" target=\"_parent\"><img src=\"https://colab.research.google.com/assets/colab-badge.svg\" alt=\"Open In Colab\"/></a>"
      ]
    },
    {
      "cell_type": "code",
      "source": [
        "import pandas as pd\n",
        "import os\n",
        "from google.colab import drive\n",
        "drive.mount('/content/drive')"
      ],
      "metadata": {
        "colab": {
          "base_uri": "https://localhost:8080/"
        },
        "id": "aemMdlpYkiQ9",
        "outputId": "36a83d1e-442a-4b80-90b0-af3bfd6a5bd2"
      },
      "execution_count": null,
      "outputs": [
        {
          "output_type": "stream",
          "name": "stdout",
          "text": [
            "Mounted at /content/drive\n"
          ]
        }
      ]
    },
    {
      "cell_type": "code",
      "source": [
        "import os\n",
        "import torch\n",
        "import numpy as np\n",
        "import pandas as pd\n",
        "import torch.nn as nn\n",
        "import torch.optim as optim\n",
        "import seaborn as sns\n",
        "import matplotlib.pyplot as plt\n",
        "from torch.utils.data import DataLoader, TensorDataset\n",
        "from transformers import PatchTSTConfig, PatchTSTForClassification\n",
        "from sklearn.preprocessing import StandardScaler\n",
        "from sklearn.model_selection import train_test_split\n",
        "from sklearn.metrics import accuracy_score, confusion_matrix, classification_report\n",
        "from torchinfo import summary"
      ],
      "metadata": {
        "id": "cFZXTtIXkp4b"
      },
      "execution_count": null,
      "outputs": []
    },
    {
      "cell_type": "code",
      "source": [
        "data_folder = \"/content/drive/My Drive/Normalized2/Final/\"\n",
        "data_list, labels_list = [], []\n",
        "# Load dataset\n",
        "for file_name in os.listdir(data_folder):\n",
        "    if file_name.endswith(\".csv\"):\n",
        "        file_path = os.path.join(data_folder, file_name)\n",
        "        df = pd.read_csv(file_path, header=0)\n",
        "        df = df.select_dtypes(include=[np.number])  # Drop non-numeric columns\n",
        "        if df.shape != (92, 52):\n",
        "            print(f\"Skipping {file_name} due to incorrect shape: {df.shape}\")\n",
        "            continue\n",
        "        data_list.append(df.values)\n",
        "        label = int(file_name.split(\"_\")[-1].split(\".\")[0])  # Extract label\n",
        "        labels_list.append(label)\n",
        "\n",
        "# Convert to NumPy arrays\n",
        "X = np.array(data_list)  # Shape: (num_samples, 92, 52)\n",
        "y = np.array(labels_list)  # Shape: (num_samples,)\n",
        "\n",
        "# Standardize features\n",
        "scaler = StandardScaler()\n",
        "X = scaler.fit_transform(X.reshape(-1, 52)).reshape(len(data_list), 92, 52)\n",
        "\n",
        "# Split into train/test (80-20)\n",
        "X_train, X_test, y_train, y_test = train_test_split(\n",
        "    X, y, test_size=0.2, random_state=42, stratify=y\n",
        ")\n",
        "# Convert to PyTorch tensors\n",
        "X_train, X_test = map(\n",
        "    lambda x: torch.tensor(x, dtype=torch.float32), [X_train, X_test]\n",
        ")\n",
        "y_train, y_test = map(lambda y: torch.tensor(y, dtype=torch.long), [y_train, y_test])\n",
        "# Move to device\n",
        "device = torch.device(\"cuda\" if torch.cuda.is_available() else \"cpu\")\n",
        "X_train, X_test, y_train, y_test = (\n",
        "    X_train.to(device),\n",
        "    X_test.to(device),\n",
        "    y_train.to(device),\n",
        "    y_test.to(device),\n",
        ")\n"
      ],
      "metadata": {
        "id": "O3GtypVvlBsa"
      },
      "execution_count": null,
      "outputs": []
    },
    {
      "cell_type": "code",
      "source": [
        "config = PatchTSTConfig(\n",
        "    num_input_channels=52,  # Features per timestep\n",
        "    num_targets=2,  # Binary classification\n",
        "    context_length=92,  # Sequence length\n",
        "    patch_length=12,  # Adjust if needed\n",
        "    stride=12,\n",
        "     dropout=0.5,\n",
        "    use_cls_token=True,\n",
        ")\n",
        "\n",
        "# Initialize PatchTST model\n",
        "model = PatchTSTForClassification(config=config).to(device)"
      ],
      "metadata": {
        "id": "G4FnkM6alDzB"
      },
      "execution_count": null,
      "outputs": []
    },
    {
      "cell_type": "code",
      "source": [
        "batch_size = 16\n",
        "train_loader = DataLoader(\n",
        "    TensorDataset(X_train, y_train), batch_size=batch_size, shuffle=True\n",
        ")\n",
        "\n",
        "criterion = nn.CrossEntropyLoss()\n",
        "optimizer = optim.Adam(model.parameters(), lr=1e-4, weight_decay=1e-3)  # Increase weight decay\n",
        "\n",
        "\n",
        "# Training Loop\n",
        "epochs = 60\n",
        "losses = []\n",
        "for epoch in range(epochs):\n",
        "    model.train()\n",
        "    total_loss = 0\n",
        "    for X_batch, y_batch in train_loader:\n",
        "        optimizer.zero_grad()\n",
        "        outputs = model(past_values=X_batch).prediction_logits\n",
        "        loss = criterion(outputs, y_batch)\n",
        "        loss.backward()\n",
        "        optimizer.step()\n",
        "        total_loss += loss.item()\n",
        "\n",
        "    avg_loss = total_loss / len(train_loader)\n",
        "    losses.append(avg_loss)\n",
        "    print(f\"Epoch {epoch+1}/{epochs}, Loss: {avg_loss:.4f}\")\n",
        "\n",
        "# Plot loss curve\n",
        "plt.plot(range(epochs), losses, label=\"Loss\")\n",
        "plt.xlabel(\"Epochs\")\n",
        "plt.ylabel(\"Loss\")\n",
        "plt.title(\"Loss Curve\")\n",
        "plt.legend()\n",
        "plt.grid(True)\n",
        "plt.show()"
      ],
      "metadata": {
        "colab": {
          "base_uri": "https://localhost:8080/",
          "height": 1000
        },
        "id": "iPbql_lOlIO_",
        "outputId": "f781131c-d28b-409e-d5de-0e0246730cd7"
      },
      "execution_count": null,
      "outputs": [
        {
          "output_type": "stream",
          "name": "stdout",
          "text": [
            "Epoch 1/60, Loss: 0.6621\n",
            "Epoch 2/60, Loss: 0.6367\n",
            "Epoch 3/60, Loss: 0.5949\n",
            "Epoch 4/60, Loss: 0.5762\n",
            "Epoch 5/60, Loss: 0.5707\n",
            "Epoch 6/60, Loss: 0.5237\n",
            "Epoch 7/60, Loss: 0.4999\n",
            "Epoch 8/60, Loss: 0.4876\n",
            "Epoch 9/60, Loss: 0.4696\n",
            "Epoch 10/60, Loss: 0.4503\n",
            "Epoch 11/60, Loss: 0.4310\n",
            "Epoch 12/60, Loss: 0.4125\n",
            "Epoch 13/60, Loss: 0.3414\n",
            "Epoch 14/60, Loss: 0.3187\n",
            "Epoch 15/60, Loss: 0.2648\n",
            "Epoch 16/60, Loss: 0.2196\n",
            "Epoch 17/60, Loss: 0.1957\n",
            "Epoch 18/60, Loss: 0.1253\n",
            "Epoch 19/60, Loss: 0.0792\n",
            "Epoch 20/60, Loss: 0.0569\n",
            "Epoch 21/60, Loss: 0.0409\n",
            "Epoch 22/60, Loss: 0.0239\n",
            "Epoch 23/60, Loss: 0.0171\n",
            "Epoch 24/60, Loss: 0.0171\n",
            "Epoch 25/60, Loss: 0.0117\n",
            "Epoch 26/60, Loss: 0.0072\n",
            "Epoch 27/60, Loss: 0.0059\n",
            "Epoch 28/60, Loss: 0.0036\n",
            "Epoch 29/60, Loss: 0.0033\n",
            "Epoch 30/60, Loss: 0.0027\n",
            "Epoch 31/60, Loss: 0.0022\n",
            "Epoch 32/60, Loss: 0.0018\n",
            "Epoch 33/60, Loss: 0.0017\n",
            "Epoch 34/60, Loss: 0.0013\n",
            "Epoch 35/60, Loss: 0.0012\n",
            "Epoch 36/60, Loss: 0.0014\n",
            "Epoch 37/60, Loss: 0.0011\n",
            "Epoch 38/60, Loss: 0.0010\n",
            "Epoch 39/60, Loss: 0.0009\n",
            "Epoch 40/60, Loss: 0.0008\n",
            "Epoch 41/60, Loss: 0.0008\n",
            "Epoch 42/60, Loss: 0.0008\n",
            "Epoch 43/60, Loss: 0.0007\n",
            "Epoch 44/60, Loss: 0.0007\n",
            "Epoch 45/60, Loss: 0.0006\n",
            "Epoch 46/60, Loss: 0.0006\n",
            "Epoch 47/60, Loss: 0.0006\n",
            "Epoch 48/60, Loss: 0.0006\n",
            "Epoch 49/60, Loss: 0.0005\n",
            "Epoch 50/60, Loss: 0.0005\n",
            "Epoch 51/60, Loss: 0.0004\n",
            "Epoch 52/60, Loss: 0.0005\n",
            "Epoch 53/60, Loss: 0.0004\n",
            "Epoch 54/60, Loss: 0.0004\n",
            "Epoch 55/60, Loss: 0.0004\n",
            "Epoch 56/60, Loss: 0.0004\n",
            "Epoch 57/60, Loss: 0.0004\n",
            "Epoch 58/60, Loss: 0.0003\n",
            "Epoch 59/60, Loss: 0.0003\n",
            "Epoch 60/60, Loss: 0.0003\n"
          ]
        },
        {
          "output_type": "display_data",
          "data": {
            "text/plain": [
              "<Figure size 640x480 with 1 Axes>"
            ],
            "image/png": "[encoded data removed]"
          },
          "metadata": {}
        }
      ]
    },
    {
      "cell_type": "code",
      "source": [
        "model.eval()\n",
        "X_full, y_full = torch.tensor(X, dtype=torch.float32).to(device), torch.tensor(\n",
        "    y, dtype=torch.long\n",
        ").to(device)\n",
        "\n",
        "with torch.no_grad():\n",
        "    full_outputs = model(past_values=X_full).prediction_logits\n",
        "    full_predictions = torch.argmax(full_outputs, dim=1)\n",
        "\n",
        "y_full_cpu, full_predictions_cpu = y_full.cpu().numpy(), full_predictions.cpu().numpy()\n",
        "\n",
        "# Compute accuracy\n",
        "full_acc = accuracy_score(y_full_cpu, full_predictions_cpu)\n",
        "print(f\"Accuracy: {full_acc:.4f}\")\n",
        "\n",
        "# Classification Report\n",
        "print(\"\\nClassification Report:\")\n",
        "print(classification_report(y_full_cpu, full_predictions_cpu, target_names=[\"Absent\", \"Present\"]))\n",
        "\n",
        "# Confusion Matrix\n",
        "conf_matrix = confusion_matrix(y_full_cpu, full_predictions_cpu)\n",
        "plt.figure(figsize=(6, 5))\n",
        "sns.heatmap(\n",
        "    conf_matrix,\n",
        "    annot=True,\n",
        "    fmt=\"d\",\n",
        "    cmap=\"Blues\",\n",
        "    xticklabels=[\"Absent\", \"Present\"],\n",
        "    yticklabels=[\"Absent\", \"Present\"],\n",
        ")\n",
        "plt.xlabel(\"Predicted Label\")\n",
        "plt.ylabel(\"True Label\")\n",
        "plt.title(\"Confusion Matrix\")\n",
        "plt.show()\n"
      ],
      "metadata": {
        "colab": {
          "base_uri": "https://localhost:8080/",
          "height": 703
        },
        "id": "aqSBP6H8Wu--",
        "outputId": "d36c416d-2abe-40b5-cf14-3459939e0d33"
      },
      "execution_count": null,
      "outputs": [
        {
          "output_type": "stream",
          "name": "stdout",
          "text": [
            "Accuracy: 0.8963\n",
            "\n",
            "Classification Report:\n",
            "              precision    recall  f1-score   support\n",
            "\n",
            "      Absent       0.92      0.89      0.90        87\n",
            "     Present       0.88      0.91      0.89        77\n",
            "\n",
            "    accuracy                           0.90       164\n",
            "   macro avg       0.90      0.90      0.90       164\n",
            "weighted avg       0.90      0.90      0.90       164\n",
            "\n"
          ]
        },
        {
          "output_type": "display_data",
          "data": {
            "text/plain": [
              "<Figure size 600x500 with 2 Axes>"
            ],
            "image/png": "[encoded data removed]"
          },
          "metadata": {}
        }
      ]
    },
    {
      "cell_type": "code",
      "source": [
        "print(\"Model Summary:\\n\")\n",
        "summary(model, input_size=(16, 92, 52))  # Ensure batch size and dimensions match\n"
      ],
      "metadata": {
        "colab": {
          "base_uri": "https://localhost:8080/"
        },
        "id": "COxb7B95W1Cm",
        "outputId": "0916d0e0-4605-41cd-ed6a-82f4ee959db5"
      },
      "execution_count": null,
      "outputs": [
        {
          "output_type": "stream",
          "name": "stdout",
          "text": [
            "Model Summary:\n",
            "\n"
          ]
        },
        {
          "output_type": "execute_result",
          "data": {
            "text/plain": [
              "=========================================================================================================\n",
              "Layer (type:depth-idx)                                  Output Shape              Param #\n",
              "=========================================================================================================\n",
              "PatchTSTForClassification                               [16, 2]                   --\n",
              "├─PatchTSTModel: 1-1                                    [16, 52, 81, 12]          --\n",
              "│    └─PatchTSTScaler: 2-1                              [16, 92, 52]              --\n",
              "│    │    └─PatchTSTStdScaler: 3-1                      [16, 92, 52]              --\n",
              "│    └─PatchTSTPatchify: 2-2                            [16, 52, 81, 12]          --\n",
              "│    └─Identity: 2-3                                    [16, 52, 81, 12]          --\n",
              "│    └─PatchTSTEncoder: 2-4                             [16, 52, 82, 128]         --\n",
              "│    │    └─PatchTSTEmbedding: 3-2                      [16, 52, 81, 128]         1,664\n",
              "│    │    └─PatchTSTPositionalEncoding: 3-3             [16, 52, 82, 128]         10,624\n",
              "│    │    └─ModuleList: 3-4                             --                        594,816\n",
              "├─PatchTSTClassificationHead: 1-2                       [16, 2]                   --\n",
              "│    └─Flatten: 2-5                                     [16, 6656]                --\n",
              "│    └─Identity: 2-6                                    [16, 6656]                --\n",
              "│    └─Linear: 2-7                                      [16, 2]                   13,314\n",
              "=========================================================================================================\n",
              "Total params: 620,418\n",
              "Trainable params: 609,922\n",
              "Non-trainable params: 10,496\n",
              "Total mult-adds (Units.MEGABYTES): 495.13\n",
              "=========================================================================================================\n",
              "Input size (MB): 0.31\n",
              "Forward/backward pass size (MB): 2374.44\n",
              "Params size (MB): 2.44\n",
              "Estimated Total Size (MB): 2377.18\n",
              "========================================================================================================="
            ]
          },
          "metadata": {},
          "execution_count": 24
        }
      ]
    }
  ]
}